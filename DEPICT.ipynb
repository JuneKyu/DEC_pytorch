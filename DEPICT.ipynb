{
 "cells": [
  {
   "cell_type": "code",
   "execution_count": 1,
   "metadata": {},
   "outputs": [
    {
     "name": "stdout",
     "output_type": "stream",
     "text": [
      "Downloading http://yann.lecun.com/exdb/mnist/train-images-idx3-ubyte.gz\n",
      "Downloading http://yann.lecun.com/exdb/mnist/train-labels-idx1-ubyte.gz\n",
      "Downloading http://yann.lecun.com/exdb/mnist/t10k-images-idx3-ubyte.gz\n",
      "Downloading http://yann.lecun.com/exdb/mnist/t10k-labels-idx1-ubyte.gz\n",
      "Processing...\n",
      "Done!\n"
     ]
    }
   ],
   "source": [
    "import os\n",
    "import torch\n",
    "import torch.nn as nn\n",
    "from torch.autograd import Variable\n",
    "import torchvision.datasets as dset\n",
    "import torchvision.transforms as transforms\n",
    "import torch.nn.functional as F\n",
    "import torch.optim as optim\n",
    "## load mnist dataset\n",
    "use_cuda = torch.cuda.is_available()\n",
    "root = './data'\n",
    "if not os.path.exists(root):\n",
    "    os.mkdir(root)\n",
    "trans = transforms.Compose([transforms.ToTensor(), transforms.Normalize((0.5,), (1.0,))])\n",
    "# if not exist, download mnist dataset\n",
    "train_set = dset.MNIST(root=root, train=True, transform=trans, download=True)\n",
    "test_set = dset.MNIST(root=root, train=False, transform=trans, download=True)\n",
    "batch_size = 100\n",
    "train_loader = torch.utils.data.DataLoader(\n",
    "                 dataset=train_set,\n",
    "                 batch_size=batch_size,\n",
    "                 shuffle=True)\n",
    "test_loader = torch.utils.data.DataLoader(\n",
    "                dataset=test_set,\n",
    "                batch_size=batch_size,\n",
    "                shuffle=False)"
   ]
  },
  {
   "cell_type": "code",
   "execution_count": null,
   "metadata": {},
   "outputs": [],
   "source": [
    "class DEPICT_AE(nn.Module):\n",
    "    def __init__(self):\n",
    "        super(DEPICT_AE,self).__init__()\n",
    "        self.dropout = nn.Dropout(p=0.1)\n",
    "        self.conv_ae1 = nn.Conv2d(1,50,4,stride=2,padding=2)\n",
    "        self.conv_ae2 = nn.Conv2d(50,50,5,stride=2,padding=2)\n",
    "        self.leReLU = nn.LeakyReLU()\n",
    "        self.fc1 = nn.Linear(9*9*50,68)\n",
    "        self.tanh = nn.Tanh()\n",
    "        self.fc_de = nn.Linear(68,9*9*50)\n",
    "        self.conv_de2 = nn.ConvTranspose2d(50,50,5,stride=2,padding=2)\n",
    "        self.conv_de1 = nn.ConvTranspose2d(50,1,4,stride=2,padding=2)\n",
    "    def forward(self,x):\n",
    "        # 32x32x1\n",
    "        x = self.dropout(x)\n",
    "        # 32x32x1\n",
    "        x = self.conv_ae1(x)\n",
    "        # 17x17x50\n",
    "        x = self.leReLU(x)\n",
    "        # 17x17x50\n",
    "        x = self.dropout(x)\n",
    "        # 17x17x50\n",
    "        x = self.conv_ae2(x)\n",
    "        # 9x9x50\n",
    "        x = self.leReLU(x)\n",
    "        # 9x9x50\n",
    "        x = self.dropout(x)\n",
    "        # 9x9x50\n",
    "        x = x.view(-1, 9*9*50)\n",
    "        # 1x4050\n",
    "        x = self.fc1(x)\n",
    "        # 1x68\n",
    "        x = self.tanh(x)\n",
    "        # 1x68\n",
    "        ##### auto encoder is done, followed by decoder #####\n",
    "        # 1x68\n",
    "        x = self.fc_de(x)\n",
    "        # 1x4050\n",
    "        x = self.tanh(x)\n",
    "        # 1x4050\n",
    "        x = x.view(-1,9,9,50)\n",
    "        # 9*9*50\n",
    "        x = x.conv_de2(x)\n",
    "        # 17x17x50\n",
    "        x = self.leReLU(x)\n",
    "        # 17x17x50\n",
    "        x = self.conv_de1(x)\n",
    "        # 32x32x1\n",
    "        x = self.tanh(x)\n",
    "        \n",
    "        \n",
    "        \n",
    "        \n",
    "        \n",
    "        \n",
    "        "
   ]
  },
  {
   "cell_type": "code",
   "execution_count": 2,
   "metadata": {},
   "outputs": [
    {
     "data": {
      "text/plain": [
       "torch.Size([1, 9, 9, 50])"
      ]
     },
     "execution_count": 2,
     "metadata": {},
     "output_type": "execute_result"
    }
   ],
   "source": [
    "x = torch.randn(1,4050)\n",
    "y = x.view(-1,9,9,50)\n",
    "y.size()"
   ]
  }
 ],
 "metadata": {
  "kernelspec": {
   "display_name": "Python 3",
   "language": "python",
   "name": "python3"
  },
  "language_info": {
   "codemirror_mode": {
    "name": "ipython",
    "version": 3
   },
   "file_extension": ".py",
   "mimetype": "text/x-python",
   "name": "python",
   "nbconvert_exporter": "python",
   "pygments_lexer": "ipython3",
   "version": "3.5.4"
  }
 },
 "nbformat": 4,
 "nbformat_minor": 2
}
